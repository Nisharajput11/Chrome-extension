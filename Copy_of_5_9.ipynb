{
  "nbformat": 4,
  "nbformat_minor": 0,
  "metadata": {
    "colab": {
      "provenance": [],
      "include_colab_link": true
    },
    "kernelspec": {
      "name": "python3",
      "display_name": "Python 3"
    },
    "language_info": {
      "name": "python"
    }
  },
  "cells": [
    {
      "cell_type": "markdown",
      "metadata": {
        "id": "view-in-github",
        "colab_type": "text"
      },
      "source": [
        "<a href=\"https://colab.research.google.com/github/Nisharajput11/Chrome-extension/blob/main/Copy_of_5_9.ipynb\" target=\"_parent\"><img src=\"https://colab.research.google.com/assets/colab-badge.svg\" alt=\"Open In Colab\"/></a>"
      ]
    },
    {
      "cell_type": "code",
      "execution_count": 1,
      "metadata": {
        "id": "8vxWt6dwJ8WN",
        "colab": {
          "base_uri": "https://localhost:8080/"
        },
        "outputId": "374ef327-67ac-449b-8610-c481a7fb82eb"
      },
      "outputs": [
        {
          "output_type": "stream",
          "name": "stdout",
          "text": [
            "21\n"
          ]
        }
      ],
      "source": [
        "String= \"Barcelona is in spain\"\n",
        "print(len(String))"
      ]
    },
    {
      "cell_type": "code",
      "source": [
        "\n",
        "count=0\n",
        "for x in \"hello\" :\n",
        "   count = 1\n",
        "   print(x)"
      ],
      "metadata": {
        "colab": {
          "base_uri": "https://localhost:8080/"
        },
        "id": "I5uT0aRTPqId",
        "outputId": "51739677-8126-410e-dc37-f71adfb4e9fd"
      },
      "execution_count": null,
      "outputs": [
        {
          "output_type": "stream",
          "name": "stdout",
          "text": [
            "h\n",
            "e\n",
            "l\n",
            "l\n",
            "o\n"
          ]
        }
      ]
    },
    {
      "cell_type": "code",
      "source": [
        "s= \"we are in spain without s\"\n",
        "vowels=\"aeiouAEIOU\"\n",
        "count= sum(s.count(vowels) for vowels in vowels)\n",
        "print(count)\n",
        "\n"
      ],
      "metadata": {
        "colab": {
          "base_uri": "https://localhost:8080/"
        },
        "id": "BlU-_rh5SAnJ",
        "outputId": "6b2b2290-556f-4699-f10f-9a3346035d01"
      },
      "execution_count": null,
      "outputs": [
        {
          "output_type": "stream",
          "name": "stdout",
          "text": [
            "9\n"
          ]
        }
      ]
    },
    {
      "cell_type": "code",
      "source": [
        "x= \"mgm is the university in abad\"\n",
        "print(x.upper())"
      ],
      "metadata": {
        "colab": {
          "base_uri": "https://localhost:8080/"
        },
        "id": "owl_4ne8T4lt",
        "outputId": "23a4f4a8-866e-42af-e7da-a1c7c5c86512"
      },
      "execution_count": null,
      "outputs": [
        {
          "output_type": "stream",
          "name": "stdout",
          "text": [
            "MGM IS THE UNIVERSITY IN ABAD\n"
          ]
        }
      ]
    },
    {
      "cell_type": "code",
      "source": [
        "y= \"WE ARE IN MGM UNIVERSITY\"\n",
        "print(y.lower())"
      ],
      "metadata": {
        "colab": {
          "base_uri": "https://localhost:8080/"
        },
        "id": "9qv1afgYUYjX",
        "outputId": "ea2c3d15-8cc3-471e-f845-77542984f82a"
      },
      "execution_count": null,
      "outputs": [
        {
          "output_type": "stream",
          "name": "stdout",
          "text": [
            "we are in mgm university\n"
          ]
        }
      ]
    },
    {
      "cell_type": "code",
      "source": [
        "count = \"HITLER destroyed PARIS in\"\n",
        "lower=0\n",
        "upper=0\n",
        "for i in count :\n",
        "           if(i.islower()) :\n",
        "             lower+=1\n",
        "           else:\n",
        "               upper+=1\n",
        "print(\"lower\", lower)\n",
        "print( \"upper\", upper)\n"
      ],
      "metadata": {
        "colab": {
          "base_uri": "https://localhost:8080/"
        },
        "id": "J-W68ZNbUxut",
        "outputId": "0fe63672-48b4-4b32-e2ec-8a305596f36d"
      },
      "execution_count": null,
      "outputs": [
        {
          "output_type": "stream",
          "name": "stdout",
          "text": [
            "lower 11\n",
            "upper 14\n"
          ]
        }
      ]
    },
    {
      "cell_type": "code",
      "source": [
        "a= \"MOM\"\n",
        "\n",
        "if ( a==a  [ ::-1 ]):\n",
        "    print(\"palindrome\")\n",
        "else :\n",
        "    print (\"not palindrome\")\n"
      ],
      "metadata": {
        "id": "SLHsKvrOdNQA",
        "colab": {
          "base_uri": "https://localhost:8080/"
        },
        "outputId": "37a5456d-f814-416a-a951-02f3c59cdde1"
      },
      "execution_count": null,
      "outputs": [
        {
          "output_type": "stream",
          "name": "stdout",
          "text": [
            "palindrome\n"
          ]
        }
      ]
    },
    {
      "cell_type": "code",
      "source": [
        "string = input(\"Please Enter your Own String : \")\n",
        "alphabets = 0\n",
        "digits = 0\n",
        "special = 0\n",
        "\n",
        "for i in range(len(string)):\n",
        "    if(string[i].isalpha()):\n",
        "        alphabets = alphabets + 1\n",
        "    elif(string[i].isdigit()):\n",
        "        digits = digits + 1\n",
        "    else:\n",
        "        special = special+1\n",
        "print(\"total number of alphabet in string:\", alphabets)\n",
        "print(\"total number of digit in string:\", digits)\n",
        "print(\"total number of special symbol in string:\", special)\n"
      ],
      "metadata": {
        "id": "aEsyZCOWi14J",
        "colab": {
          "base_uri": "https://localhost:8080/"
        },
        "outputId": "9cb54e78-477a-4d62-ab9b-bccf5f02ec04"
      },
      "execution_count": null,
      "outputs": [
        {
          "output_type": "stream",
          "name": "stdout",
          "text": [
            "Please Enter your Own String : 1.we are happily!? desired & 2nd\n",
            "total number of alphabet in string: 21\n",
            "total number of digit in string: 2\n",
            "total number of special symbol in string: 9\n"
          ]
        }
      ]
    },
    {
      "cell_type": "code",
      "source": [
        "# 6. list and tuples\n",
        "# Write a Python program to sum all the items in a list.\n",
        "\n",
        "list1= [ 1, 5, 9, 11 ,15]\n",
        "total= sum(list1)\n",
        "print(total)\n"
      ],
      "metadata": {
        "colab": {
          "base_uri": "https://localhost:8080/"
        },
        "id": "5dfh4hwYXlEG",
        "outputId": "91d47f2e-6750-42c5-868b-4199cd0faf1f"
      },
      "execution_count": null,
      "outputs": [
        {
          "output_type": "stream",
          "name": "stdout",
          "text": [
            "41\n"
          ]
        }
      ]
    },
    {
      "cell_type": "code",
      "source": [
        "# Write a Python program to get the lowest number from a list\n",
        "list1= [ 1, 5, 9, 11 ,15]\n",
        "lowest= min(list1)\n",
        "\n",
        "print(\"lowest num is : \", lowest)\n"
      ],
      "metadata": {
        "colab": {
          "base_uri": "https://localhost:8080/"
        },
        "id": "qfVZdp4pZAPu",
        "outputId": "c5c0d9c5-7c35-44d5-9c1e-dd74f076d93b"
      },
      "execution_count": null,
      "outputs": [
        {
          "output_type": "stream",
          "name": "stdout",
          "text": [
            "lowest num is :  1\n"
          ]
        }
      ]
    },
    {
      "cell_type": "code",
      "source": [
        "# Write a Python program to get the largest number from a list\n",
        "list1= [ 1, 5, 9, 11 ,15]\n",
        "\n",
        "largest= max(list1)\n",
        "print(\"largest num is :\", largest)"
      ],
      "metadata": {
        "colab": {
          "base_uri": "https://localhost:8080/"
        },
        "id": "GkjjZh3UZoW9",
        "outputId": "76a82b58-b7eb-4419-900b-e21d0d6bb358"
      },
      "execution_count": null,
      "outputs": [
        {
          "output_type": "stream",
          "name": "stdout",
          "text": [
            "largest num is : 15\n"
          ]
        }
      ]
    },
    {
      "cell_type": "code",
      "source": [
        "# Write a Python program to multiply all the items in a list from re import T\n",
        "listX= [1, 2, 3, 4, 5]\n",
        "t=1\n",
        "\n",
        "for i in range(0, len(listX)):\n",
        "   t = t*listX[i]\n",
        "\n",
        "print(t)"
      ],
      "metadata": {
        "colab": {
          "base_uri": "https://localhost:8080/"
        },
        "id": "FoZI3yHOaHFW",
        "outputId": "1f5ce899-69bb-4fa5-aad9-01672b023c28"
      },
      "execution_count": null,
      "outputs": [
        {
          "output_type": "stream",
          "name": "stdout",
          "text": [
            "120\n"
          ]
        }
      ]
    },
    {
      "cell_type": "code",
      "source": [
        "# Write a Python program to count all elements in list and count Occurrences Of A list item in python\n",
        "list=[1, \"a\", 4, 6, \"b\", \"a\", 6, \"C\"]\n",
        "t_l=(len(list))\n",
        "count_a= list.count(\"a\")\n",
        "print(\"total item in list \", t_l)\n",
        "print(\"Total occurrences of a in list\", count_a)\n",
        "\n"
      ],
      "metadata": {
        "id": "AC6uZd9UbMme",
        "colab": {
          "base_uri": "https://localhost:8080/"
        },
        "outputId": "4acb7d99-689d-44ed-913e-d220a2a9cb55"
      },
      "execution_count": null,
      "outputs": [
        {
          "output_type": "stream",
          "name": "stdout",
          "text": [
            "total item in list  8\n",
            "Total occurrences of a in list 2\n"
          ]
        }
      ]
    },
    {
      "cell_type": "code",
      "source": [
        "#\n",
        "Tuple= (1, \"Wheel\", 3,\"Qatar grand prix\", 1.66, )\n",
        "print(Tuple)\n"
      ],
      "metadata": {
        "colab": {
          "base_uri": "https://localhost:8080/"
        },
        "id": "3fBy4QFGcA9M",
        "outputId": "8c7a7c33-ee54-4a79-d350-bb78ea2db8c6"
      },
      "execution_count": null,
      "outputs": [
        {
          "output_type": "stream",
          "name": "stdout",
          "text": [
            "(1, 'Wheel', 3, 'Qatar grand prix', 1.66)\n"
          ]
        }
      ]
    },
    {
      "cell_type": "code",
      "source": [
        "Tuple= (1, \"Wheel\", 3,\"Qatar grand prix\", 1.66, )\n",
        "n_tuple= Tuple[::-1]\n",
        "print(n_tuple)"
      ],
      "metadata": {
        "colab": {
          "base_uri": "https://localhost:8080/"
        },
        "id": "dagOYERZdizO",
        "outputId": "331366bf-3e07-4ade-d2f0-19ef32a794a3"
      },
      "execution_count": null,
      "outputs": [
        {
          "output_type": "stream",
          "name": "stdout",
          "text": [
            "(1.66, 'Qatar grand prix', 3, 'Wheel', 1)\n"
          ]
        }
      ]
    },
    {
      "cell_type": "code",
      "source": [
        "# Write a Python program calculate the product of all the numbers given in tuple. Original Tuple: (2, 4, 8, 8, 3, 2, 9) Product - multiplying all the numbers of the said tuple: 27648\n",
        "\n",
        "Tuple= (2, 4, 8, 8, 3, 2, 9)\n",
        "Tuple_sum= sum(Tuple)\n",
        "print(Tuple_sum)\n",
        "\n"
      ],
      "metadata": {
        "colab": {
          "base_uri": "https://localhost:8080/"
        },
        "id": "bygfYv2Le1rP",
        "outputId": "bd717373-82bb-4d3a-e5c7-afa1c5ccfaa2"
      },
      "execution_count": null,
      "outputs": [
        {
          "output_type": "stream",
          "name": "stdout",
          "text": [
            "36\n"
          ]
        }
      ]
    },
    {
      "cell_type": "code",
      "source": [
        "Tuple= (2, 4, 8, 8, 3, 2, 9)\n",
        "t=1\n",
        "for i in range(0, len(Tuple)):\n",
        "       t = t*Tuple[i]\n",
        "print(t)"
      ],
      "metadata": {
        "colab": {
          "base_uri": "https://localhost:8080/"
        },
        "id": "raW_KqcMf1sX",
        "outputId": "caf6606e-4f09-4a20-beaa-4cf5800ba6a0"
      },
      "execution_count": null,
      "outputs": [
        {
          "output_type": "stream",
          "name": "stdout",
          "text": [
            "27648\n"
          ]
        }
      ]
    },
    {
      "cell_type": "code",
      "source": [
        "#\n",
        "Tuple= (2, 4, 8, 8, 3, 2, 9)\n",
        "print(2 in Tuple)\n"
      ],
      "metadata": {
        "colab": {
          "base_uri": "https://localhost:8080/"
        },
        "id": "ImMqZcb4gacN",
        "outputId": "be9bbc83-1f4c-473a-bbe0-9f7619b689a9"
      },
      "execution_count": null,
      "outputs": [
        {
          "output_type": "stream",
          "name": "stdout",
          "text": [
            "True\n"
          ]
        }
      ]
    },
    {
      "cell_type": "code",
      "source": [
        "ages={\"vikas\":19, \"umair\":18, \"asjad\":17, \"taylor\":23}\n",
        "max_value= max(ages.values())\n",
        "min_value= min(ages.values())\n",
        "\n",
        "max_key= max(ages, key=ages.get)\n",
        "min_key= min(ages, key=ages.get)\n",
        "\n",
        "print(max_value)\n",
        "print(min_value)\n",
        "print(max_key)\n",
        "print(min_key)\n"
      ],
      "metadata": {
        "colab": {
          "base_uri": "https://localhost:8080/"
        },
        "id": "b5-LWpF6AAHc",
        "outputId": "fdfd464f-4db9-4fe0-9d0a-bbf6508f544e"
      },
      "execution_count": null,
      "outputs": [
        {
          "output_type": "stream",
          "name": "stdout",
          "text": [
            "23\n",
            "17\n",
            "taylor\n",
            "asjad\n"
          ]
        }
      ]
    },
    {
      "cell_type": "code",
      "source": [
        "# DICTIONARY\n",
        "\n",
        "dic1={1:10, 2:20}\n",
        "dic2={3:30, 4:40}\n",
        "dic3={5:50, 6:60}\n",
        "dic4={}\n",
        "for i in (dic1, dic2, dic3):\n",
        "   dic4.update(i)\n",
        "print(dic4)\n",
        "\n",
        "\n"
      ],
      "metadata": {
        "colab": {
          "base_uri": "https://localhost:8080/"
        },
        "id": "epooXQ3ghHaA",
        "outputId": "b152c610-489d-42ea-cd92-a148e155e942"
      },
      "execution_count": null,
      "outputs": [
        {
          "output_type": "stream",
          "name": "stdout",
          "text": [
            "{1: 10, 2: 20, 3: 30, 4: 40, 5: 50, 6: 60}\n"
          ]
        }
      ]
    },
    {
      "cell_type": "code",
      "source": [
        "# Write a Python program to check whether a given key already exists in a dictionary\n",
        "\n",
        "dict1={1:1, 2:2, 3:3, 4:4,}\n",
        "print(1 in dict1)"
      ],
      "metadata": {
        "colab": {
          "base_uri": "https://localhost:8080/"
        },
        "id": "RRk2F7aBhHbA",
        "outputId": "8c093249-7e17-4b17-aa03-b0d57946aa5e"
      },
      "execution_count": null,
      "outputs": [
        {
          "output_type": "stream",
          "name": "stdout",
          "text": [
            "True\n"
          ]
        }
      ]
    },
    {
      "cell_type": "code",
      "source": [],
      "metadata": {
        "id": "mIMfR1Xvnfhc"
      },
      "execution_count": null,
      "outputs": []
    },
    {
      "cell_type": "code",
      "source": [
        "a=int(input(\"enter num :\"))\n",
        "l=dict()\n",
        "for i in range(1, a+1):\n",
        "   l[i]=i*i\n",
        "print(l)"
      ],
      "metadata": {
        "colab": {
          "base_uri": "https://localhost:8080/"
        },
        "id": "hnuG4mTNk1O-",
        "outputId": "4fa39d20-5214-4c48-92bf-84cfe0af3ed7"
      },
      "execution_count": null,
      "outputs": [
        {
          "output_type": "stream",
          "name": "stdout",
          "text": [
            "enter num :5\n",
            "{1: 1, 2: 4, 3: 9, 4: 16, 5: 25}\n"
          ]
        }
      ]
    },
    {
      "cell_type": "code",
      "source": [
        "dict1={1:1, 5:125}\n",
        "dict2={2:8, 4:64}\n",
        "print(dict1|dict2)"
      ],
      "metadata": {
        "colab": {
          "base_uri": "https://localhost:8080/"
        },
        "id": "HjiHCyYjo-IS",
        "outputId": "b0693fa1-3972-44c2-98cf-ce66d325cc99"
      },
      "execution_count": null,
      "outputs": [
        {
          "output_type": "stream",
          "name": "stdout",
          "text": [
            "{1: 1, 5: 125, 2: 8, 4: 64}\n"
          ]
        }
      ]
    },
    {
      "cell_type": "code",
      "source": [
        "s1={0, 2, 4, 6, 8}\n",
        "s2={1, 2, 3, 4, 5}\n",
        "print(\"union\", s1|s2)\n",
        "print(\"intersection\", s1 & s2)\n",
        "print(\"difference\", s1-s2)\n"
      ],
      "metadata": {
        "colab": {
          "base_uri": "https://localhost:8080/"
        },
        "id": "k9EkjuE2pvAz",
        "outputId": "646f5907-cd28-44d7-948e-c2c1f68386d8"
      },
      "execution_count": null,
      "outputs": [
        {
          "output_type": "stream",
          "name": "stdout",
          "text": [
            "union {0, 1, 2, 3, 4, 5, 6, 8}\n",
            "intersection {2, 4}\n",
            "difference {0, 8, 6}\n"
          ]
        }
      ]
    },
    {
      "cell_type": "code",
      "source": [
        "f=30\n",
        "s1={10, 20, 30, 40, 50}\n",
        "s2={15, 30, 45, 60, 75}\n",
        "c_elements= s1.intersection(s2)\n",
        "if f in c_elements:\n",
        "   print(\"element is present\")\n",
        "else:\n",
        "   print(\"element is not present\")"
      ],
      "metadata": {
        "colab": {
          "base_uri": "https://localhost:8080/"
        },
        "id": "dvI3amnGD_bh",
        "outputId": "dfce7e25-28b3-4fed-ae4b-9dcab2ebf1a7"
      },
      "execution_count": null,
      "outputs": [
        {
          "output_type": "stream",
          "name": "stdout",
          "text": [
            "element is present\n"
          ]
        }
      ]
    },
    {
      "cell_type": "code",
      "source": [],
      "metadata": {
        "id": "q98GUDz9EGZe"
      },
      "execution_count": null,
      "outputs": []
    },
    {
      "cell_type": "code",
      "source": [
        "#PROGRAM BASED ON FUNCTIONS\n",
        "#Write a program in to check a given number is even or odd using the function.\n",
        "def odd_evenfuntion(x):\n",
        "  if x%2==0 :\n",
        "     print(x, \"is even num\")\n",
        "  else :\n",
        "     print(x, \"is odd num\")\n",
        "odd_evenfuntion(3)\n",
        "odd_evenfuntion(4)"
      ],
      "metadata": {
        "colab": {
          "base_uri": "https://localhost:8080/"
        },
        "outputId": "89b500ae-d992-4193-dc19-f466ac77ffb4",
        "id": "1MrWNJ6vbfHy"
      },
      "execution_count": null,
      "outputs": [
        {
          "output_type": "stream",
          "name": "stdout",
          "text": [
            "3 is odd num\n",
            "4 is even num\n"
          ]
        }
      ]
    },
    {
      "cell_type": "code",
      "source": [
        "#Write a function Exchange to interchange the values of two variables, say x and y.\n",
        "#illustrate the use of this function in a calling function.\n",
        "def interchangefunc(x,y):\n",
        "   t=x\n",
        "   x=y\n",
        "   y=t\n",
        "   return x,y\n",
        "x=10\n",
        "y=20\n",
        "print(interchangefunc(x,y))\n"
      ],
      "metadata": {
        "colab": {
          "base_uri": "https://localhost:8080/"
        },
        "id": "-ATlUgGLY-mp",
        "outputId": "87de678a-c39f-4637-8d47-d6666d3edd20"
      },
      "execution_count": null,
      "outputs": [
        {
          "output_type": "stream",
          "name": "stdout",
          "text": [
            "(20, 10)\n"
          ]
        }
      ]
    },
    {
      "cell_type": "code",
      "source": [],
      "metadata": {
        "id": "fGz90IkNiYm7"
      },
      "execution_count": null,
      "outputs": []
    },
    {
      "cell_type": "code",
      "source": [
        "def recur_sum(n):\n",
        "  if n<=1:\n",
        "     return n\n",
        "  else:\n",
        "     return n + recur_sum(n-1)\n",
        "\n",
        "num=int(input(\"enter number:\"))\n",
        "if num<0:\n",
        "    print(\"Enter a positive number\")\n",
        "else :\n",
        "    print(\"sum of first\",num, \"number is\", recur_sum(num))\n"
      ],
      "metadata": {
        "colab": {
          "base_uri": "https://localhost:8080/"
        },
        "id": "ertcN_E7iYn-",
        "outputId": "dab98e84-a196-4fde-ddc2-2ae86fff06f2"
      },
      "execution_count": null,
      "outputs": [
        {
          "output_type": "stream",
          "name": "stdout",
          "text": [
            "enter number:4\n",
            "sum of first 4 number is 10\n"
          ]
        }
      ]
    },
    {
      "cell_type": "code",
      "source": [
        "#Write a program to print Fibonacci series number using recursion\n",
        "def recur_fibo(n):\n",
        "   if n <= 1:\n",
        "      return n\n",
        "   else:\n",
        "      return(recur_fibo(n-1) + recur_fibo(n-2))\n",
        "nterms = int(input(\"enter number\"))\n",
        "\n",
        "if nterms <= 0:\n",
        "   print(\"please enter a positive number\")\n",
        "else:\n",
        "   print(\"fibonnic sequence\")\n",
        "for i in range(nterms):\n",
        "       print(recur_fibo(i))"
      ],
      "metadata": {
        "colab": {
          "base_uri": "https://localhost:8080/"
        },
        "id": "tmjh_n-UfNrB",
        "outputId": "7d423d18-b486-46ce-a3ad-a19a93cd0b2f"
      },
      "execution_count": null,
      "outputs": [
        {
          "output_type": "stream",
          "name": "stdout",
          "text": [
            "enter number10\n",
            "fibonnic sequence\n",
            "0\n",
            "1\n",
            "1\n",
            "2\n",
            "3\n",
            "5\n",
            "8\n",
            "13\n",
            "21\n",
            "34\n"
          ]
        }
      ]
    },
    {
      "cell_type": "code",
      "source": [
        "import numpy\n",
        "arr= numpy.array([1,2,3,4,5])\n",
        "print(arr)"
      ],
      "metadata": {
        "colab": {
          "base_uri": "https://localhost:8080/"
        },
        "id": "-IJyE8T-oDF7",
        "outputId": "6a29d3eb-1c7f-44ba-f08d-60557f669ce2"
      },
      "execution_count": null,
      "outputs": [
        {
          "output_type": "stream",
          "name": "stdout",
          "text": [
            "[1 2 3 4 5]\n"
          ]
        }
      ]
    },
    {
      "cell_type": "code",
      "source": [
        "import numpy as np\n",
        "arr1= np.array([ 1,2,3 ])\n",
        "arr2= np.array([ 5,6,3 ])\n",
        "multiplication= arr1*arr2\n",
        "\n",
        "print(np.add(arr1,arr2))\n",
        "print(np.subtract(arr2,arr1))\n",
        "print(multiplication)\n",
        "print(arr1[0]+arr2[0])\n",
        "print(arr1[2]+arr1[0])"
      ],
      "metadata": {
        "colab": {
          "base_uri": "https://localhost:8080/"
        },
        "id": "iyCVCARVp-zN",
        "outputId": "d2e0c395-6964-4fe8-ed6c-04dc3c1439a9"
      },
      "execution_count": null,
      "outputs": [
        {
          "output_type": "stream",
          "name": "stdout",
          "text": [
            "[6 8 6]\n",
            "[4 4 0]\n",
            "[ 5 12  9]\n",
            "6\n",
            "4\n"
          ]
        }
      ]
    },
    {
      "cell_type": "code",
      "source": [
        "import numpy as np\n",
        "\n",
        "# Create a NumPy array filled with all zeros\n",
        "zeros_array = np.zeros((5, 5), dtype=int)\n",
        "print(\"Array filled with zeros:\\n\", zeros_array)\n",
        "\n",
        "# Create a NumPy array filled with all ones\n",
        "ones_array = np.ones((3, 3), dtype=int)\n",
        "print(\"Array filled with ones:\\n\", ones_array)\n",
        "\n",
        "# Add a border around the ones_array and place it inside the zeros_array\n",
        "bordered_array = np.copy(zeros_array)\n",
        "bordered_array[1:-1, 1:-1] = ones_array\n",
        "print(\"Array with a border of ones:\\n\", bordered_array)\n"
      ],
      "metadata": {
        "id": "-Dg-yNNurmga",
        "colab": {
          "base_uri": "https://localhost:8080/"
        },
        "outputId": "777dc5f7-b9bd-4015-e32b-950da7a9fed8"
      },
      "execution_count": null,
      "outputs": [
        {
          "output_type": "stream",
          "name": "stdout",
          "text": [
            "Array filled with zeros:\n",
            " [[0 0 0 0 0]\n",
            " [0 0 0 0 0]\n",
            " [0 0 0 0 0]\n",
            " [0 0 0 0 0]\n",
            " [0 0 0 0 0]]\n",
            "Array filled with ones:\n",
            " [[1 1 1]\n",
            " [1 1 1]\n",
            " [1 1 1]]\n",
            "Array with a border of ones:\n",
            " [[0 0 0 0 0]\n",
            " [0 1 1 1 0]\n",
            " [0 1 1 1 0]\n",
            " [0 1 1 1 0]\n",
            " [0 0 0 0 0]]\n"
          ]
        }
      ]
    },
    {
      "cell_type": "code",
      "source": [
        "import numpy as np\n",
        "zeros_array = np.zeros((5, 5), dtype=int)\n",
        "ones_array = np.ones((4, 4), dtype=int)\n",
        "original_array = np.array([[2, 3, 5],\n",
        "                            [7, 11, 13],\n",
        "                            [17, 19, 23]])\n",
        "\n",
        "bordered_array = np.pad(original_array, pad_width=1, mode='constant', constant_values=0)\n",
        "\n",
        "print(\"Zeros Array:\")\n",
        "print(zeros_array)\n",
        "\n",
        "print(\"\\nOnes Array:\")\n",
        "print(ones_array)\n",
        "\n",
        "print(\"\\nOriginal Array:\")\n",
        "print(original_array)\n",
        "\n",
        "print(\"\\nBordered Array:\")\n",
        "print(bordered_array)\n"
      ],
      "metadata": {
        "colab": {
          "base_uri": "https://localhost:8080/"
        },
        "id": "8J6cI9AowXo6",
        "outputId": "4432ee6d-9dcd-4595-f793-74086035d785"
      },
      "execution_count": null,
      "outputs": [
        {
          "output_type": "stream",
          "name": "stdout",
          "text": [
            "Zeros Array:\n",
            "[[0 0 0 0 0]\n",
            " [0 0 0 0 0]\n",
            " [0 0 0 0 0]\n",
            " [0 0 0 0 0]\n",
            " [0 0 0 0 0]]\n",
            "\n",
            "Ones Array:\n",
            "[[1 1 1 1]\n",
            " [1 1 1 1]\n",
            " [1 1 1 1]\n",
            " [1 1 1 1]]\n",
            "\n",
            "Original Array:\n",
            "[[ 2  3  5]\n",
            " [ 7 11 13]\n",
            " [17 19 23]]\n",
            "\n",
            "Bordered Array:\n",
            "[[ 0  0  0  0  0]\n",
            " [ 0  2  3  5  0]\n",
            " [ 0  7 11 13  0]\n",
            " [ 0 17 19 23  0]\n",
            " [ 0  0  0  0  0]]\n"
          ]
        }
      ]
    },
    {
      "cell_type": "code",
      "source": [],
      "metadata": {
        "id": "83Z06ng6DcVO"
      },
      "execution_count": null,
      "outputs": []
    },
    {
      "cell_type": "code",
      "source": [
        "import pandas as pd\n",
        "import matplotlib.pyplot as plt\n",
        "\n",
        "# Create a time series with specific dates\n",
        "dates = pd.to_datetime(['2023-01-01', '2023-01-02', '2023-01-03'])\n",
        "data = [10, 15, 20]\n",
        "time_series = pd.Series(data, index=dates)\n",
        "\n",
        "# Accessing a specific date\n",
        "print(\"Data for 2023-01-02:\", time_series['2023-01-02'])\n",
        "\n",
        "# Slicing a date range\n",
        "print(\"Data for 2023-01-02 to 2023-01-03:\")\n",
        "print(time_series['2023-01-02':'2023-01-03'])\n",
        "\n",
        "# Resample to monthly data\n",
        "monthly_data = time_series.resample('M').mean()\n",
        "print(\"Monthly data:\")\n",
        "print(monthly_data)\n",
        "\n",
        "# Shift data forward by one day\n",
        "lagged_data = time_series.shift(1)\n",
        "print(\"Lagged data:\")\n",
        "print(lagged_data)\n",
        "\n",
        "# Plot the original time series\n",
        "time_series.plot(title=\"Time Series Data\")\n",
        "plt.show()\n"
      ],
      "metadata": {
        "colab": {
          "base_uri": "https://localhost:8080/",
          "height": 706
        },
        "id": "cpJWe1O6x5LG",
        "outputId": "e35402b6-2f33-43af-b46c-c3c46d288abd"
      },
      "execution_count": null,
      "outputs": [
        {
          "output_type": "stream",
          "name": "stdout",
          "text": [
            "Data for 2023-01-02: 15\n",
            "Data for 2023-01-02 to 2023-01-03:\n",
            "2023-01-02    15\n",
            "2023-01-03    20\n",
            "dtype: int64\n",
            "Monthly data:\n",
            "2023-01-31    15.0\n",
            "Freq: M, dtype: float64\n",
            "Lagged data:\n",
            "2023-01-01     NaN\n",
            "2023-01-02    10.0\n",
            "2023-01-03    15.0\n",
            "dtype: float64\n"
          ]
        },
        {
          "output_type": "display_data",
          "data": {
            "text/plain": [
              "<Figure size 640x480 with 1 Axes>"
            ],
            "image/png": "[encoded data removed]"
          },
          "metadata": {}
        }
      ]
    },
    {
      "cell_type": "code",
      "source": [
        "import pandas as pd\n",
        "import numpy as np\n",
        "\n",
        "# Create a date range for a week\n",
        "date_range = pd.date_range(start='2023-10-16', periods=7, freq='D')\n",
        "\n",
        "# Create a Pandas DataFrame with random data for each day\n",
        "data = {'Temperature (C)': np.random.uniform(10, 30, 7),\n",
        "        'Humidity (%)': np.random.uniform(40, 70, 7)}\n",
        "df = pd.DataFrame(data, index=date_range)\n",
        "\n",
        "# Display the DataFrame\n",
        "print(\"Sample Time Series Data:\")\n",
        "print(df)\n",
        "\n",
        "# Resample the data to get the mean for each month\n",
        "monthly_mean = df.resample('M').mean()\n",
        "\n",
        "# Add a new column representing the day of the week\n",
        "df['Day of Week'] = df.index.day_name()\n",
        "\n",
        "# Filter the data for a specific day of the week (e.g., Monday)\n",
        "monday_data = df[df['Day of Week'] == 'Monday']\n",
        "\n",
        "# Calculate the rolling 3-day average of temperature\n",
        "df['Rolling Avg Temp (3 days)'] = df['Temperature (C)'].rolling(window=3).mean()\n",
        "\n",
        "# Display the manipulated DataFrame\n",
        "print(\"\\nMonthly Mean:\")\n",
        "print(monthly_mean)\n",
        "print(\"\\nData for Mondays:\")\n",
        "print(monday_data)\n",
        "print(\"\\nData with Rolling 3-Day Average Temperature:\")\n",
        "print(df)\n",
        "\n"
      ],
      "metadata": {
        "colab": {
          "base_uri": "https://localhost:8080/"
        },
        "id": "tXxHuKgbzah_",
        "outputId": "88f44ffd-c406-47da-88b7-431fd050020e"
      },
      "execution_count": null,
      "outputs": [
        {
          "output_type": "stream",
          "name": "stdout",
          "text": [
            "Sample Time Series Data:\n",
            "            Temperature (C)  Humidity (%)\n",
            "2023-10-16        16.405102     43.048002\n",
            "2023-10-17        14.649853     52.276393\n",
            "2023-10-18        14.538202     68.448298\n",
            "2023-10-19        16.261561     57.462274\n",
            "2023-10-20        21.920184     51.101974\n",
            "2023-10-21        10.084007     54.670730\n",
            "2023-10-22        14.623758     52.429470\n",
            "\n",
            "Monthly Mean:\n",
            "            Temperature (C)  Humidity (%)\n",
            "2023-10-31        15.497524     54.205306\n",
            "\n",
            "Data for Mondays:\n",
            "            Temperature (C)  Humidity (%) Day of Week\n",
            "2023-10-16        16.405102     43.048002      Monday\n",
            "\n",
            "Data with Rolling 3-Day Average Temperature:\n",
            "            Temperature (C)  Humidity (%) Day of Week  \\\n",
            "2023-10-16        16.405102     43.048002      Monday   \n",
            "2023-10-17        14.649853     52.276393     Tuesday   \n",
            "2023-10-18        14.538202     68.448298   Wednesday   \n",
            "2023-10-19        16.261561     57.462274    Thursday   \n",
            "2023-10-20        21.920184     51.101974      Friday   \n",
            "2023-10-21        10.084007     54.670730    Saturday   \n",
            "2023-10-22        14.623758     52.429470      Sunday   \n",
            "\n",
            "            Rolling Avg Temp (3 days)  \n",
            "2023-10-16                        NaN  \n",
            "2023-10-17                        NaN  \n",
            "2023-10-18                  15.197719  \n",
            "2023-10-19                  15.149872  \n",
            "2023-10-20                  17.573316  \n",
            "2023-10-21                  16.088584  \n",
            "2023-10-22                  15.542650  \n"
          ]
        }
      ]
    },
    {
      "cell_type": "code",
      "source": [
        "import pandas as pd\n",
        "import numpy as np\n",
        "\n",
        "# Create a date range for a month\n",
        "date_range = pd.date_range(start='2023-10-01', periods=30, freq='D')\n",
        "\n",
        "# Create a Pandas DataFrame with simulated daily stock prices\n",
        "stock_prices = np.cumsum(np.random.uniform(-1, 1, 30)) + 100\n",
        "df = pd.DataFrame({'Stock Price': stock_prices}, index=date_range)\n",
        "\n",
        "# Display the DataFrame\n",
        "print(\"Sample Time Series Data (Stock Prices):\")\n",
        "print(df)\n",
        "\n",
        "# Resample the data to get the weekly average\n",
        "weekly_avg = df.resample('W').mean()\n",
        "\n",
        "# Calculate the daily returns\n",
        "df['Daily Returns'] = df['Stock Price'].pct_change()\n",
        "\n",
        "# Find the days with the highest and lowest returns\n",
        "max_return_day = df['Daily Returns'].idxmax()\n",
        "min_return_day = df['Daily Returns'].idxmin()\n",
        "\n",
        "# Display the manipulated DataFrame\n",
        "print(\"\\nWeekly Average:\")\n",
        "print(weekly_avg)\n",
        "print(\"\\nDaily Returns:\")\n",
        "print(df)\n",
        "print(f\"\\nDay with Highest Return: {max_return_day}\")\n",
        "print(f\"Day with Lowest Return: {min_return_day}\")"
      ],
      "metadata": {
        "colab": {
          "base_uri": "https://localhost:8080/"
        },
        "id": "WbMdSCjLzcBv",
        "outputId": "aa686612-b195-4309-99be-ef8ecd328b05"
      },
      "execution_count": null,
      "outputs": [
        {
          "output_type": "stream",
          "name": "stdout",
          "text": [
            "Sample Time Series Data (Stock Prices):\n",
            "            Stock Price\n",
            "2023-10-01   100.202541\n",
            "2023-10-02   100.019329\n",
            "2023-10-03   100.904750\n",
            "2023-10-04   100.812245\n",
            "2023-10-05   101.236106\n",
            "2023-10-06   101.808371\n",
            "2023-10-07   102.324573\n",
            "2023-10-08   101.400551\n",
            "2023-10-09   101.125769\n",
            "2023-10-10   100.555753\n",
            "2023-10-11   101.457618\n",
            "2023-10-12   101.084756\n",
            "2023-10-13   100.829306\n",
            "2023-10-14   101.585422\n",
            "2023-10-15   100.851337\n",
            "2023-10-16   100.914284\n",
            "2023-10-17   100.680655\n",
            "2023-10-18   100.206011\n",
            "2023-10-19   100.137383\n",
            "2023-10-20    99.423379\n",
            "2023-10-21    99.641903\n",
            "2023-10-22   100.428409\n",
            "2023-10-23    99.581117\n",
            "2023-10-24    99.772281\n",
            "2023-10-25   100.018449\n",
            "2023-10-26    99.470672\n",
            "2023-10-27    98.897990\n",
            "2023-10-28    97.978183\n",
            "2023-10-29    98.321873\n",
            "2023-10-30    97.502422\n",
            "\n",
            "Weekly Average:\n",
            "            Stock Price\n",
            "2023-10-01   100.202541\n",
            "2023-10-08   101.215132\n",
            "2023-10-15   101.069994\n",
            "2023-10-22   100.204575\n",
            "2023-10-29    99.148652\n",
            "2023-11-05    97.502422\n",
            "\n",
            "Daily Returns:\n",
            "            Stock Price  Daily Returns\n",
            "2023-10-01   100.202541            NaN\n",
            "2023-10-02   100.019329      -0.001828\n",
            "2023-10-03   100.904750       0.008852\n",
            "2023-10-04   100.812245      -0.000917\n",
            "2023-10-05   101.236106       0.004204\n",
            "2023-10-06   101.808371       0.005653\n",
            "2023-10-07   102.324573       0.005070\n",
            "2023-10-08   101.400551      -0.009030\n",
            "2023-10-09   101.125769      -0.002710\n",
            "2023-10-10   100.555753      -0.005637\n",
            "2023-10-11   101.457618       0.008969\n",
            "2023-10-12   101.084756      -0.003675\n",
            "2023-10-13   100.829306      -0.002527\n",
            "2023-10-14   101.585422       0.007499\n",
            "2023-10-15   100.851337      -0.007226\n",
            "2023-10-16   100.914284       0.000624\n",
            "2023-10-17   100.680655      -0.002315\n",
            "2023-10-18   100.206011      -0.004714\n",
            "2023-10-19   100.137383      -0.000685\n",
            "2023-10-20    99.423379      -0.007130\n",
            "2023-10-21    99.641903       0.002198\n",
            "2023-10-22   100.428409       0.007893\n",
            "2023-10-23    99.581117      -0.008437\n",
            "2023-10-24    99.772281       0.001920\n",
            "2023-10-25   100.018449       0.002467\n",
            "2023-10-26    99.470672      -0.005477\n",
            "2023-10-27    98.897990      -0.005757\n",
            "2023-10-28    97.978183      -0.009301\n",
            "2023-10-29    98.321873       0.003508\n",
            "2023-10-30    97.502422      -0.008334\n",
            "\n",
            "Day with Highest Return: 2023-10-11 00:00:00\n",
            "Day with Lowest Return: 2023-10-28 00:00:00\n"
          ]
        }
      ]
    },
    {
      "cell_type": "code",
      "source": [
        "import pandas as pd\n",
        "import numpy as np\n",
        "\n",
        "date_range = pd.date_range(start='2023-10-01 00:00:00', periods=24, freq='H')\n",
        "hourly_temperatures = np.random.uniform(10, 30, 24)\n",
        "df = pd.DataFrame({'Temperature (C)': hourly_temperatures}, index=date_range)\n",
        "\n",
        "print(\"Sample Time Series Data (Hourly Temperatures):\")\n",
        "print(df)\n",
        "\n",
        "four_hourly_mean = df['Temperature (C)'].resample('4H').mean()\n",
        "max_temp_hour = df['Temperature (C)'].idxmax().strftime('%H:%M')\n",
        "\n",
        "print(\"\\n4-Hourly Mean Temperatures:\")\n",
        "print(four_hourly_mean)\n",
        "print(\"\\nHour with Highest Temperature: \" + max_temp_hour)\n",
        "\n"
      ],
      "metadata": {
        "colab": {
          "base_uri": "https://localhost:8080/"
        },
        "id": "dH9-KHqr08Gy",
        "outputId": "bdb31334-766a-4142-99c5-36ab3ac3b128"
      },
      "execution_count": null,
      "outputs": [
        {
          "output_type": "stream",
          "name": "stdout",
          "text": [
            "Sample Time Series Data (Hourly Temperatures):\n",
            "                     Temperature (C)\n",
            "2023-10-01 00:00:00        13.327191\n",
            "2023-10-01 01:00:00        11.812864\n",
            "2023-10-01 02:00:00        18.083204\n",
            "2023-10-01 03:00:00        24.328164\n",
            "2023-10-01 04:00:00        24.278184\n",
            "2023-10-01 05:00:00        29.201514\n",
            "2023-10-01 06:00:00        28.532217\n",
            "2023-10-01 07:00:00        21.004237\n",
            "2023-10-01 08:00:00        15.489600\n",
            "2023-10-01 09:00:00        16.065125\n",
            "2023-10-01 10:00:00        21.681243\n",
            "2023-10-01 11:00:00        21.493654\n",
            "2023-10-01 12:00:00        13.021495\n",
            "2023-10-01 13:00:00        26.625060\n",
            "2023-10-01 14:00:00        25.805679\n",
            "2023-10-01 15:00:00        15.483453\n",
            "2023-10-01 16:00:00        15.524904\n",
            "2023-10-01 17:00:00        27.095612\n",
            "2023-10-01 18:00:00        11.817667\n",
            "2023-10-01 19:00:00        12.349975\n",
            "2023-10-01 20:00:00        22.925995\n",
            "2023-10-01 21:00:00        29.421590\n",
            "2023-10-01 22:00:00        19.086822\n",
            "2023-10-01 23:00:00        14.882375\n",
            "\n",
            "4-Hourly Mean Temperatures:\n",
            "2023-10-01 00:00:00    16.887856\n",
            "2023-10-01 04:00:00    25.754038\n",
            "2023-10-01 08:00:00    18.682406\n",
            "2023-10-01 12:00:00    20.233922\n",
            "2023-10-01 16:00:00    16.697040\n",
            "2023-10-01 20:00:00    21.579195\n",
            "Freq: 4H, Name: Temperature (C), dtype: float64\n",
            "\n",
            "Hour with Highest Temperature: 21:00\n"
          ]
        }
      ]
    },
    {
      "cell_type": "code",
      "source": [
        "import matplotlib.pyplot as plt\n",
        "\n",
        "x = [1, 2, 3, 4, 5]\n",
        "y = [10, 12, 5, 8, 15]\n",
        "\n",
        "plt.scatter(x, y)\n",
        "plt.xlabel(\"X-axis\")\n",
        "plt.ylabel(\"Y-axis\")\n",
        "plt.title(\"Scatter Plot\")\n",
        "plt.show()"
      ],
      "metadata": {
        "colab": {
          "base_uri": "https://localhost:8080/",
          "height": 472
        },
        "id": "GCIYb83q0UoM",
        "outputId": "6bcbf4ed-0545-4dfa-a44b-bbfe1b80d536"
      },
      "execution_count": null,
      "outputs": [
        {
          "output_type": "display_data",
          "data": {
            "text/plain": [
              "<Figure size 640x480 with 1 Axes>"
            ],
            "image/png": "[encoded data removed]"
          },
          "metadata": {}
        }
      ]
    },
    {
      "cell_type": "code",
      "source": [
        "import matplotlib.pyplot as plt\n",
        "\n",
        "x = [1, 2, 3, 4, 5]\n",
        "y = [10, 12, 5, 8, 15]\n",
        "\n",
        "plt.plot(x, y)\n",
        "plt.xlabel(\"X-axis\")\n",
        "plt.ylabel(\"Y-axis\")\n",
        "plt.title(\"Line Plot\")\n",
        "plt.show()\n"
      ],
      "metadata": {
        "colab": {
          "base_uri": "https://localhost:8080/",
          "height": 472
        },
        "id": "qlhk-bKp2lV8",
        "outputId": "bdb3323b-aef2-4606-d047-958577b8fa48"
      },
      "execution_count": null,
      "outputs": [
        {
          "output_type": "display_data",
          "data": {
            "text/plain": [
              "<Figure size 640x480 with 1 Axes>"
            ],
            "image/png": "[encoded data removed]"
          },
          "metadata": {}
        }
      ]
    },
    {
      "cell_type": "code",
      "source": [
        "import matplotlib.pyplot as plt\n",
        "from mpl_toolkits.mplot3d import Axes3D\n",
        "import numpy as np\n",
        "fig = plt.figure()\n",
        "ax = fig.add_subplot(111, projection='3d')\n",
        "\n",
        "x = np.random.rand(50)\n",
        "y = np.random.rand(50)\n",
        "z = np.random.rand(50)\n",
        "\n",
        "ax.scatter(x, y, z, c='b', marker='o')\n",
        "\n",
        "ax.set_xlabel('X Label')\n",
        "ax.set_ylabel('Y Label')\n",
        "ax.set_zlabel('Z Label')\n",
        "\n",
        "ax.set_title('3D Scatter Plot')\n",
        "\n",
        "plt.show()\n"
      ],
      "metadata": {
        "colab": {
          "base_uri": "https://localhost:8080/",
          "height": 441
        },
        "id": "kzuc9qIJ2vu0",
        "outputId": "745f21a2-956e-4464-baf5-8cdd9f23bc21"
      },
      "execution_count": null,
      "outputs": [
        {
          "output_type": "display_data",
          "data": {
            "text/plain": [
              "<Figure size 640x480 with 1 Axes>"
            ],
            "image/png": "[encoded data removed]"
          },
          "metadata": {}
        }
      ]
    },
    {
      "cell_type": "code",
      "source": [
        "import numpy as np\n",
        "import matplotlib.pyplot as plt\n",
        "\n",
        "# Create a sales dataset\n",
        "products = [\"Product A\", \"Product B\", \"Product C\", \"Product D\", \"Product E\"]\n",
        "product_ids = [101, 102, 103, 104, 105]\n",
        "prices = [25.0, 18.0, 30.0, 15.0, 22.0]\n",
        "quantities = [50, 80, 40, 60, 70]\n",
        "\n",
        "# Calculate total sales for each product\n",
        "total_sales = [price * quantity for price, quantity in zip(prices, quantities)]\n",
        "\n",
        "# Create a bar chart to visualize the data\n",
        "plt.figure(figsize=(10, 6))\n",
        "plt.bar(products, total_sales, color='skyblue')\n",
        "plt.xlabel(\"Products\")\n",
        "plt.ylabel(\"Total Sales (USD)\")\n",
        "plt.title(\"Product Sales Data\")\n",
        "plt.xticks(rotation=45) # Rotate x-axis labels for better readability\n",
        "\n",
        "# Display the bar chart\n",
        "plt.tight_layout()\n",
        "plt.show()"
      ],
      "metadata": {
        "colab": {
          "base_uri": "https://localhost:8080/",
          "height": 607
        },
        "id": "nPJT3-jj3HNT",
        "outputId": "e456cf1a-2744-48ae-8f6c-533af75e8726"
      },
      "execution_count": null,
      "outputs": [
        {
          "output_type": "display_data",
          "data": {
            "text/plain": [
              "<Figure size 1000x600 with 1 Axes>"
            ],
            "image/png": "[encoded data removed]"
          },
          "metadata": {}
        }
      ]
    },
    {
      "cell_type": "code",
      "source": [
        "import pandas as pd\n",
        "import matplotlib.pyplot as plt\n",
        "\n",
        "data = {\n",
        "    'Product Name': ['Cream N onion lays', 'Tomato tango lays',\n",
        "            'Magic masala lays', 'classic salt lays', 'chlie lemon lays'],\n",
        "    'Product ID': [\"GRNLYS\", \"REDLYS\", \"BLELYS\", \"YLWLYS\", \"CHLLYS\"],\n",
        "    'Price': [10.0, 10.0, 10.0, 10.0, 10.0],\n",
        "    'Quantity': [110, 70, 60, 40, 35]\n",
        "}\n",
        "\n",
        "sales_df = pd.DataFrame(data)\n",
        "\n",
        "sales_df['Total Sales'] = sales_df['Price'] * sales_df['Quantity']\n",
        "\n",
        "print(\"Sales Dataset of Lays :\")\n",
        "print(sales_df)\n",
        "\n",
        "plt.bar(sales_df['Product Name'], sales_df['Total Sales'])\n",
        "plt.xlabel('Product Name')\n",
        "plt.ylabel('Total Sales')\n",
        "plt.title('Total Sales by Product')\n",
        "plt.xticks(rotation=45, ha=\"right\")\n",
        "plt.show()\n"
      ],
      "metadata": {
        "colab": {
          "base_uri": "https://localhost:8080/",
          "height": 688
        },
        "id": "CsNz8aJE3_aJ",
        "outputId": "78b6a6bc-0027-462d-c455-672bc6f3b709"
      },
      "execution_count": null,
      "outputs": [
        {
          "output_type": "stream",
          "name": "stdout",
          "text": [
            "Sales Dataset of Lays :\n",
            "         Product Name Product ID  Price  Quantity  Total Sales\n",
            "0  Cream N onion lays     GRNLYS   10.0       110       1100.0\n",
            "1   Tomato tango lays     REDLYS   10.0        70        700.0\n",
            "2   Magic masala lays     BLELYS   10.0        60        600.0\n",
            "3   classic salt lays     YLWLYS   10.0        40        400.0\n",
            "4    chlie lemon lays     CHLLYS   10.0        35        350.0\n"
          ]
        },
        {
          "output_type": "display_data",
          "data": {
            "text/plain": [
              "<Figure size 640x480 with 1 Axes>"
            ],
            "image/png": "[encoded data removed]"
          },
          "metadata": {}
        }
      ]
    }
  ]
}